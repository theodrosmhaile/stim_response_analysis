{
 "cells": [
  {
   "cell_type": "markdown",
   "metadata": {},
   "source": [
    "## stimulus-response experiment analysis\n"
   ]
  },
  {
   "cell_type": "code",
   "execution_count": 1,
   "metadata": {},
   "outputs": [],
   "source": [
    "# start up\n",
    "import numpy as np\n",
    "import pandas as pd\n",
    "pd.set_option('display.max_rows', 500)\n",
    "pd.set_option('display.max_columns', 500)\n",
    "import matplotlib\n",
    "import re "
   ]
  },
  {
   "cell_type": "code",
   "execution_count": 2,
   "metadata": {
    "scrolled": false
   },
   "outputs": [
    {
     "data": {
      "text/html": [
       "<div>\n",
       "<style scoped>\n",
       "    .dataframe tbody tr th:only-of-type {\n",
       "        vertical-align: middle;\n",
       "    }\n",
       "\n",
       "    .dataframe tbody tr th {\n",
       "        vertical-align: top;\n",
       "    }\n",
       "\n",
       "    .dataframe thead th {\n",
       "        text-align: right;\n",
       "    }\n",
       "</style>\n",
       "<table border=\"1\" class=\"dataframe\">\n",
       "  <thead>\n",
       "    <tr style=\"text-align: right;\">\n",
       "      <th></th>\n",
       "      <th>0</th>\n",
       "      <th>1</th>\n",
       "      <th>2</th>\n",
       "      <th>3</th>\n",
       "    </tr>\n",
       "  </thead>\n",
       "  <tbody>\n",
       "    <tr>\n",
       "      <th>0</th>\n",
       "      <td>practice1</td>\n",
       "      <td>stiA</td>\n",
       "      <td>2.0</td>\n",
       "      <td>465.0</td>\n",
       "    </tr>\n",
       "    <tr>\n",
       "      <th>1</th>\n",
       "      <td>practice1</td>\n",
       "      <td>stiB</td>\n",
       "      <td>1.0</td>\n",
       "      <td>794.0</td>\n",
       "    </tr>\n",
       "    <tr>\n",
       "      <th>2</th>\n",
       "      <td>practice1</td>\n",
       "      <td>stiA</td>\n",
       "      <td>1.0</td>\n",
       "      <td>444.0</td>\n",
       "    </tr>\n",
       "    <tr>\n",
       "      <th>3</th>\n",
       "      <td>practice1</td>\n",
       "      <td>stiB</td>\n",
       "      <td>2.0</td>\n",
       "      <td>578.0</td>\n",
       "    </tr>\n",
       "    <tr>\n",
       "      <th>4</th>\n",
       "      <td>practice1</td>\n",
       "      <td>stiA</td>\n",
       "      <td>2.0</td>\n",
       "      <td>898.0</td>\n",
       "    </tr>\n",
       "    <tr>\n",
       "      <th>...</th>\n",
       "      <td>...</td>\n",
       "      <td>...</td>\n",
       "      <td>...</td>\n",
       "      <td>...</td>\n",
       "    </tr>\n",
       "    <tr>\n",
       "      <th>841</th>\n",
       "      <td>\"20\"</td>\n",
       "      <td>None</td>\n",
       "      <td>NaN</td>\n",
       "      <td>NaN</td>\n",
       "    </tr>\n",
       "    <tr>\n",
       "      <th>842</th>\n",
       "      <td>\"0\"</td>\n",
       "      <td>None</td>\n",
       "      <td>NaN</td>\n",
       "      <td>NaN</td>\n",
       "    </tr>\n",
       "    <tr>\n",
       "      <th>843</th>\n",
       "      <td>\"80\"</td>\n",
       "      <td>None</td>\n",
       "      <td>NaN</td>\n",
       "      <td>NaN</td>\n",
       "    </tr>\n",
       "    <tr>\n",
       "      <th>844</th>\n",
       "      <td>\"0\"</td>\n",
       "      <td>None</td>\n",
       "      <td>NaN</td>\n",
       "      <td>NaN</td>\n",
       "    </tr>\n",
       "    <tr>\n",
       "      <th>845</th>\n",
       "      <td>\"5\"</td>\n",
       "      <td>None</td>\n",
       "      <td>NaN</td>\n",
       "      <td>NaN</td>\n",
       "    </tr>\n",
       "  </tbody>\n",
       "</table>\n",
       "<p>846 rows × 4 columns</p>\n",
       "</div>"
      ],
      "text/plain": [
       "             0     1    2      3\n",
       "0    practice1  stiA  2.0  465.0\n",
       "1    practice1  stiB  1.0  794.0\n",
       "2    practice1  stiA  1.0  444.0\n",
       "3    practice1  stiB  2.0  578.0\n",
       "4    practice1  stiA  2.0  898.0\n",
       "..         ...   ...  ...    ...\n",
       "841       \"20\"  None  NaN    NaN\n",
       "842        \"0\"  None  NaN    NaN\n",
       "843       \"80\"  None  NaN    NaN\n",
       "844        \"0\"  None  NaN    NaN\n",
       "845        \"5\"  None  NaN    NaN\n",
       "\n",
       "[846 rows x 4 columns]"
      ]
     },
     "execution_count": 2,
     "metadata": {},
     "output_type": "execute_result"
    }
   ],
   "source": [
    "#import data\n",
    "dat1=pd.read_csv('./data/data-1.csv')\n",
    "\n",
    "\n",
    "#Temporary work-around until we can get the NBack data separated from the Learning and Test\n",
    "dat_learning=pd.read_table('./data/S-R_Learning_Task.2020-11-24-0036.data.f0f9ba84-0bdb-4c8c-8044-0077e22f5983.txt',\n",
    "                   delimiter= '\\s+', \n",
    "                   header=None,\n",
    "                   nrows=846,\n",
    "                   engine='python')\n",
    "#dat_nBack=\n",
    "\n",
    "dat_learning"
   ]
  },
  {
   "cell_type": "code",
   "execution_count": 3,
   "metadata": {},
   "outputs": [],
   "source": [
    "# set accuracy to just 1 and 0 (2=incorrect,3=missed trial)\n",
    "dat_learning.loc[dat_learning[2]!=1, 2] = 0"
   ]
  },
  {
   "cell_type": "code",
   "execution_count": 4,
   "metadata": {},
   "outputs": [],
   "source": [
    "def analyze_learning_dat(dat):\n",
    "    # perform accuracy analysis\n",
    "        # Find the different conditions ans stimuli\n",
    "    findCond = {    \n",
    "    \"n3\" : dat[0].str.contains(\"n3\"),\n",
    "    \"m3\" : dat[0].str.contains(\"m3\"),\n",
    "    \"n6\" : dat[0].str.contains(\"n6\"),\n",
    "    \"m6\" : dat[0].str.contains(\"m6\")\n",
    "    }\n",
    "    findStim = {\n",
    "    \"stiA\" : dat[1].str.contains(\"A\"),\n",
    "    \"stiB\" : dat[1].str.contains(\"B\"),\n",
    "    \"stiC\" : dat[1].str.contains(\"C\"),\n",
    "    \"stiD\" : dat[1].str.contains(\"D\"),\n",
    "    \"stiE\" : dat[1].str.contains(\"E\"),\n",
    "    \"stiF\" : dat[1].str.contains(\"F\")\n",
    "    }\n",
    "    # Extract and align and order randomly presented stims for averaging\n",
    "    acc_m3 = pd.DataFrame()\n",
    "    acc_m6 = pd.DataFrame()\n",
    "    acc_n3 = pd.DataFrame()\n",
    "    acc_n6 = pd.DataFrame()\n",
    "\n",
    "    for c in findCond:\n",
    "\n",
    "        for s in findStim:\n",
    "            if c ==('m6'):\n",
    "                acc_m6.insert(0,s,np.array(dat.loc[findCond[c] & findStim[s], 2]), True)\n",
    "\n",
    "            if c ==('n6'):\n",
    "                acc_n6.insert(0,s,np.array(dat.loc[findCond[c] & findStim[s], 2]), True)\n",
    "\n",
    "            if c.endswith('3'):\n",
    "                if s.endswith('D') | s.endswith('E') | s.endswith('F'):\n",
    "                    continue\n",
    "            if c == ('m3'):\n",
    "                acc_m3.insert(0,s,np.array(dat.loc[findCond[c] & findStim[s], 2]), True)\n",
    "\n",
    "            if c == ('n3'):\n",
    "                acc_n3.insert(0,s,np.array(dat.loc[findCond[c] & findStim[s], 2]), True)\n",
    "\n",
    "    # Reshape and average\n",
    "\n",
    "    subjct = {'n3': np.array(acc_n3).reshape([13, 12],order='F').mean(axis=1),\n",
    "              'm3': np.array(acc_m3).reshape([13, 12],order='F').mean(axis=1),\n",
    "              'n6': np.array(acc_n6).reshape([13, 18],order='F').mean(axis=1),\n",
    "              'm6': np.array(acc_m6).reshape([13, 18],order='F').mean(axis=1)}\n",
    "    \n",
    "    return subjct\n"
   ]
  },
  {
   "cell_type": "code",
   "execution_count": 6,
   "metadata": {
    "scrolled": true
   },
   "outputs": [],
   "source": [
    "p=analyze_learning_dat(dat_learning)"
   ]
  },
  {
   "cell_type": "code",
   "execution_count": 7,
   "metadata": {
    "scrolled": false
   },
   "outputs": [
    {
     "data": {
      "text/plain": [
       "<AxesSubplot:>"
      ]
     },
     "execution_count": 7,
     "metadata": {},
     "output_type": "execute_result"
    },
    {
     "data": {
      "image/png": "[encoded data removed]",
      "text/plain": [
       "<Figure size 432x288 with 1 Axes>"
      ]
     },
     "metadata": {
      "needs_background": "light"
     },
     "output_type": "display_data"
    }
   ],
   "source": [
    "pd.DataFrame(p).plot()\n"
   ]
  },
  {
   "cell_type": "code",
   "execution_count": null,
   "metadata": {},
   "outputs": [],
   "source": [
    "\n"
   ]
  }
 ],
 "metadata": {
  "celltoolbar": "Raw Cell Format",
  "kernelspec": {
   "display_name": "Python 3",
   "language": "python",
   "name": "python3"
  },
  "language_info": {
   "codemirror_mode": {
    "name": "ipython",
    "version": 3
   },
   "file_extension": ".py",
   "mimetype": "text/x-python",
   "name": "python",
   "nbconvert_exporter": "python",
   "pygments_lexer": "ipython3",
   "version": "3.9.0"
  }
 },
 "nbformat": 4,
 "nbformat_minor": 4
}
